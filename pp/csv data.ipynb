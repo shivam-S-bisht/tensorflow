{
 "cells": [
  {
   "cell_type": "code",
   "execution_count": 1,
   "metadata": {},
   "outputs": [],
   "source": [
    "#setup for csv data"
   ]
  },
  {
   "cell_type": "code",
   "execution_count": 2,
   "metadata": {},
   "outputs": [],
   "source": [
    "import tensorflow as tf\n",
    "import numpy as np\n"
   ]
  },
  {
   "cell_type": "code",
   "execution_count": 3,
   "metadata": {},
   "outputs": [],
   "source": [
    "TRAIN_DATA_URL = \"https://storage.googleapis.com/tf-datasets/titanic/train.csv\"\n",
    "TEST_DATA_URL = \"https://storage.googleapis.com/tf-datasets/titanic/eval.csv\"\n",
    "\n",
    "train_file_path = tf.keras.utils.get_file('train.csv', TRAIN_DATA_URL)\n",
    "test_file_path = tf.keras.utils.get_file('eval.csv', TEST_DATA_URL)"
   ]
  },
  {
   "cell_type": "code",
   "execution_count": 6,
   "metadata": {},
   "outputs": [],
   "source": [
    "#preciion with 3 decimal points\n",
    "#easier to read\n",
    "np.set_printoptions(precision=3, suppress=True)"
   ]
  },
  {
   "cell_type": "code",
   "execution_count": 7,
   "metadata": {},
   "outputs": [],
   "source": [
    "LABEL_COLUMN = 'survived'\n",
    "LABELS = [0, 1]"
   ]
  },
  {
   "cell_type": "code",
   "execution_count": 8,
   "metadata": {},
   "outputs": [],
   "source": [
    "#to create a dataset from csv"
   ]
  },
  {
   "cell_type": "code",
   "execution_count": 9,
   "metadata": {},
   "outputs": [],
   "source": [
    "def get_dataset(file_path, **kwargs):\n",
    "    dataset = tf.data.experimental.make_csv_dataset(\n",
    "        file_path, \n",
    "        batch_size = 5, #if the data id very large\n",
    "        label_name = LABEL_COLUMN,\n",
    "        na_value = '?',\n",
    "        num_epochs = 1,\n",
    "        ignore_errors = True,\n",
    "        **kwargs \n",
    "    )\n",
    "    \n",
    "    return dataset\n",
    "\n",
    "raw_train_data = get_dataset(train_file_path)\n",
    "raw_test_data = get_dataset(test_file_path)"
   ]
  },
  {
   "cell_type": "code",
   "execution_count": 10,
   "metadata": {},
   "outputs": [],
   "source": [
    "#it only shows the batch not the labels\n",
    "def show_batch(dataset):\n",
    "   \n",
    "    for batch, label  in dataset.take(2):\n",
    "        print(label.numpy())\n",
    "        for key, values in batch.items():\n",
    "            print(key, ':', values.numpy())\n"
   ]
  },
  {
   "cell_type": "code",
   "execution_count": 11,
   "metadata": {},
   "outputs": [
    {
     "output_type": "stream",
     "name": "stdout",
     "text": "[0 0 1 0 1]\nsex : [b'male' b'male' b'female' b'male' b'female']\nage : [34. 28. 27. 23. 28.]\nn_siblings_spouses : [0 0 0 0 0]\nparch : [0 0 0 0 0]\nfare : [13.     8.05   7.925 13.     7.75 ]\nclass : [b'Second' b'Third' b'Third' b'Second' b'Third']\ndeck : [b'unknown' b'unknown' b'unknown' b'unknown' b'unknown']\nembark_town : [b'Southampton' b'Southampton' b'Southampton' b'Southampton' b'Queenstown']\nalone : [b'y' b'y' b'y' b'y' b'y']\n[0 0 1 1 1]\nsex : [b'male' b'male' b'female' b'female' b'male']\nage : [18. 37. 30.  4. 35.]\nn_siblings_spouses : [0 1 0 0 0]\nparch : [0 0 0 2 0]\nfare : [73.5   26.    12.475 22.025 26.288]\nclass : [b'Second' b'Second' b'Third' b'Third' b'First']\ndeck : [b'unknown' b'unknown' b'unknown' b'unknown' b'E']\nembark_town : [b'Southampton' b'Southampton' b'Southampton' b'Southampton'\n b'Southampton']\nalone : [b'y' b'n' b'y' b'n' b'y']\n"
    }
   ],
   "source": [
    "show_batch(raw_train_data)"
   ]
  },
  {
   "cell_type": "code",
   "execution_count": 12,
   "metadata": {},
   "outputs": [
    {
     "output_type": "stream",
     "name": "stdout",
     "text": "[1 0 1 1 0]\nsex : [b'female' b'male' b'male' b'male' b'male']\nage : [28.   43.   32.    0.83 31.  ]\nn_siblings_spouses : [1 0 0 1 1]\nparch : [0 0 0 1 1]\nfare : [52.     6.45   7.925 18.75  26.25 ]\nclass : [b'First' b'Third' b'Third' b'Second' b'Second']\ndeck : [b'C' b'unknown' b'unknown' b'unknown' b'unknown']\nembark_town : [b'Southampton' b'Southampton' b'Southampton' b'Southampton'\n b'Southampton']\nalone : [b'n' b'y' b'y' b'n' b'n']\n[1 1 0 0 1]\nsex : [b'male' b'female' b'female' b'male' b'female']\nage : [56. 28. 28. 28. 18.]\nn_siblings_spouses : [0 1 0 0 0]\nparch : [0 1 0 0 2]\nfare : [35.5   22.358  8.05  22.525 79.65 ]\nclass : [b'First' b'Third' b'Third' b'Third' b'First']\ndeck : [b'A' b'F' b'unknown' b'unknown' b'E']\nembark_town : [b'Cherbourg' b'Cherbourg' b'Southampton' b'Southampton' b'Southampton']\nalone : [b'y' b'n' b'y' b'y' b'n']\n"
    }
   ],
   "source": [
    "show_batch(raw_test_data)"
   ]
  },
  {
   "cell_type": "code",
   "execution_count": 13,
   "metadata": {},
   "outputs": [],
   "source": [
    "#we can also select the particular columns as to make the dataset as shown"
   ]
  },
  {
   "cell_type": "code",
   "execution_count": 14,
   "metadata": {},
   "outputs": [
    {
     "output_type": "stream",
     "name": "stdout",
     "text": "[1 1 0 0 1]\nsex : [b'male' b'male' b'male' b'male' b'male']\nage : [45. 32. 57. 28. 80.]\nn_siblings_spouses : [0 0 0 0 0]\nparch : [0 0 0 1 0]\nfare : [26.55  56.496 12.35  33.    30.   ]\nclass : [b'First' b'Third' b'Second' b'Second' b'First']\ndeck : [b'unknown' b'unknown' b'unknown' b'unknown' b'A']\nembark_town : [b'Southampton' b'Southampton' b'Queenstown' b'Southampton' b'Southampton']\nalone : [b'y' b'y' b'y' b'n' b'y']\n[0 0 0 0 1]\nsex : [b'male' b'male' b'male' b'male' b'female']\nage : [31. 18. 28. 11. 28.]\nn_siblings_spouses : [0 0 0 5 0]\nparch : [0 0 0 2 0]\nfare : [10.5   73.5    7.225 46.9   33.   ]\nclass : [b'Second' b'Second' b'Third' b'Third' b'Second']\ndeck : [b'unknown' b'unknown' b'unknown' b'unknown' b'unknown']\nembark_town : [b'Southampton' b'Southampton' b'Cherbourg' b'Southampton' b'Southampton']\nalone : [b'y' b'y' b'y' b'n' b'y']\n"
    }
   ],
   "source": [
    "CSV_COLUMNS = ['survived', 'sex', 'age', 'n_siblings_spouses', 'parch', 'fare', 'class', 'deck', 'embark_town', 'alone']\n",
    "\n",
    "#column_names are set as **kwargs\n",
    "temp_dataset = get_dataset(train_file_path, column_names = CSV_COLUMNS)\n",
    "\n",
    "show_batch(temp_dataset)"
   ]
  },
  {
   "cell_type": "code",
   "execution_count": 15,
   "metadata": {},
   "outputs": [],
   "source": [
    "#data preprocessing"
   ]
  },
  {
   "cell_type": "code",
   "execution_count": 16,
   "metadata": {},
   "outputs": [],
   "source": [
    "#iif the data is in the numeric format then its a good practice to pass that numeric data into a single vector format"
   ]
  },
  {
   "cell_type": "code",
   "execution_count": 17,
   "metadata": {},
   "outputs": [
    {
     "output_type": "stream",
     "name": "stdout",
     "text": "[1 0 0 1 1]\nage : [28. 28. 31. 38. 21.]\nn_siblings_spouses : [1. 0. 0. 0. 2.]\nparch : [0. 0. 0. 0. 2.]\nfare : [ 16.1   221.779  50.496 227.525 262.375]\n[1 0 0 0 0]\nage : [24. 18. 45. 28. 51.]\nn_siblings_spouses : [2. 0. 0. 0. 0.]\nparch : [3. 0. 0. 0. 0.]\nfare : [18.75   7.775  7.75   7.55   7.054]\n"
    }
   ],
   "source": [
    "SELECT_COLUMNS = ['survived', 'age', 'n_siblings_spouses', 'parch', 'fare']\n",
    "DEFAULTS = [0, 0.0, 0.0, 0.0, 0.0]\n",
    "\n",
    "temp_dataset = get_dataset(train_file_path, select_columns = SELECT_COLUMNS, column_defaults = DEFAULTS)\n",
    "\n",
    "show_batch(temp_dataset)"
   ]
  },
  {
   "cell_type": "code",
   "execution_count": 18,
   "metadata": {},
   "outputs": [],
   "source": [
    "#one of the many batches are collected here\n",
    "example_batch, labels = next(iter(temp_dataset))"
   ]
  },
  {
   "cell_type": "code",
   "execution_count": 19,
   "metadata": {},
   "outputs": [
    {
     "output_type": "execute_result",
     "data": {
      "text/plain": "array([18.,  4., 28., 28., 14.], dtype=float32)"
     },
     "metadata": {},
     "execution_count": 19
    }
   ],
   "source": [
    "example_batch['age'].numpy()"
   ]
  },
  {
   "cell_type": "code",
   "execution_count": 20,
   "metadata": {},
   "outputs": [
    {
     "output_type": "execute_result",
     "data": {
      "text/plain": "array([0, 1, 0, 0, 0])"
     },
     "metadata": {},
     "execution_count": 20
    }
   ],
   "source": [
    "labels.numpy()"
   ]
  },
  {
   "cell_type": "code",
   "execution_count": 21,
   "metadata": {},
   "outputs": [
    {
     "output_type": "stream",
     "name": "stdout",
     "text": "[odict_values([<tf.Tensor: shape=(5,), dtype=float32, numpy=array([18.,  4., 28., 28., 14.], dtype=float32)>, <tf.Tensor: shape=(5,), dtype=float32, numpy=array([0., 1., 0., 8., 5.], dtype=float32)>, <tf.Tensor: shape=(5,), dtype=float32, numpy=array([0., 1., 0., 2., 2.], dtype=float32)>, <tf.Tensor: shape=(5,), dtype=float32, numpy=array([ 8.3  , 16.7  ,  8.458, 69.55 , 46.9  ], dtype=float32)>])]\n\n[<tf.Tensor: shape=(5,), dtype=float32, numpy=array([18.,  4., 28., 28., 14.], dtype=float32)>, <tf.Tensor: shape=(5,), dtype=float32, numpy=array([0., 1., 0., 8., 5.], dtype=float32)>, <tf.Tensor: shape=(5,), dtype=float32, numpy=array([0., 1., 0., 2., 2.], dtype=float32)>, <tf.Tensor: shape=(5,), dtype=float32, numpy=array([ 8.3  , 16.7  ,  8.458, 69.55 , 46.9  ], dtype=float32)>]\n"
    }
   ],
   "source": [
    "print([example_batch.values()])\n",
    "print()\n",
    "print(list(example_batch.values()))"
   ]
  },
  {
   "cell_type": "code",
   "execution_count": 22,
   "metadata": {},
   "outputs": [
    {
     "output_type": "execute_result",
     "data": {
      "text/plain": "<tf.Tensor: shape=(5,), dtype=int32, numpy=array([0, 1, 0, 0, 0])>"
     },
     "metadata": {},
     "execution_count": 22
    }
   ],
   "source": [
    "labels"
   ]
  },
  {
   "cell_type": "code",
   "execution_count": 23,
   "metadata": {},
   "outputs": [],
   "source": [
    "#packing all both the features and labes in one into a single tuple kinda thinkg called dataset hhere,,,,,,,,hahahaah\n",
    "\n",
    "def pack(features, label):\n",
    "    return tf.stack(list(features.values()), axis = -1), label"
   ]
  },
  {
   "cell_type": "code",
   "execution_count": 24,
   "metadata": {},
   "outputs": [
    {
     "output_type": "stream",
     "name": "stdout",
     "text": "<class 'tensorflow.python.framework.ops.EagerTensor'>\n[[20.     0.     0.     7.229]\n [35.     0.     0.     7.05 ]\n [48.     0.     0.     7.854]\n [28.     0.     0.     7.896]\n [21.     0.     0.     7.796]]\n\n[1 0 0 0 1]\n"
    }
   ],
   "source": [
    "packed_dataset = temp_dataset.map(pack)\n",
    "\n",
    "for features, labels in packed_dataset.take(1):\n",
    "    print(type(labels))\n",
    "    print(features.numpy())\n",
    "    print()\n",
    "    print(labels.numpy())"
   ]
  },
  {
   "cell_type": "code",
   "execution_count": 25,
   "metadata": {},
   "outputs": [],
   "source": [
    "#also we can pack the numeric data in a single column into a dataset"
   ]
  },
  {
   "cell_type": "code",
   "execution_count": 26,
   "metadata": {},
   "outputs": [],
   "source": [
    "class PackNumericFeatures(object):\n",
    "    def __init__(self, names):\n",
    "        self.names = names\n",
    "\n",
    "    def __call__(self, *args):\n",
    "        features, labels = args\n",
    "        numeric_features = [features.pop(name) for name in self.names]\n",
    "        numeric_features = [tf.cast(feat, tf.float32) for feat in numeric_features]\n",
    "        numeric_features = tf.stack(numeric_features, axis = -1)\n",
    "        features['numeric'] = numeric_features\n",
    "\n",
    "        return features, labels"
   ]
  },
  {
   "cell_type": "code",
   "execution_count": 27,
   "metadata": {},
   "outputs": [],
   "source": [
    "NUMERIC_FEATURES = ['age','n_siblings_spouses','parch', 'fare']\n",
    "\n",
    "packed_train_data = raw_train_data.map(PackNumericFeatures(NUMERIC_FEATURES))\n",
    "packed_test_data = raw_test_data.map(PackNumericFeatures(NUMERIC_FEATURES))"
   ]
  },
  {
   "cell_type": "code",
   "execution_count": 28,
   "metadata": {},
   "outputs": [
    {
     "output_type": "stream",
     "name": "stdout",
     "text": "[0 0 1 0 0]\nsex : [b'male' b'male' b'female' b'male' b'male']\nclass : [b'Third' b'Third' b'First' b'Third' b'Second']\ndeck : [b'unknown' b'unknown' b'unknown' b'unknown' b'D']\nembark_town : [b'Southampton' b'Southampton' b'Cherbourg' b'Southampton' b'Cherbourg']\nalone : [b'n' b'n' b'y' b'y' b'y']\nnumeric : [[24.     1.     0.    16.1  ]\n [33.     1.     1.    20.525]\n [30.     0.     0.    31.   ]\n [59.     0.     0.     7.25 ]\n [36.     0.     0.    12.875]]\n[0 0 0 1 0]\nsex : [b'male' b'male' b'male' b'female' b'male']\nclass : [b'Second' b'Third' b'Third' b'Second' b'First']\ndeck : [b'unknown' b'unknown' b'unknown' b'unknown' b'unknown']\nembark_town : [b'Southampton' b'Southampton' b'Queenstown' b'Southampton' b'Cherbourg']\nalone : [b'y' b'y' b'n' b'n' b'y']\nnumeric : [[35.     0.     0.    26.   ]\n [28.     0.     0.     7.896]\n [ 4.     4.     1.    29.125]\n [33.     1.     2.    27.75 ]\n [71.     0.     0.    49.504]]\n"
    }
   ],
   "source": [
    "show_batch(packed_train_data)"
   ]
  },
  {
   "cell_type": "code",
   "execution_count": 29,
   "metadata": {},
   "outputs": [],
   "source": [
    "example_batch, labels_batch = next(iter(packed_train_data)) "
   ]
  },
  {
   "cell_type": "code",
   "execution_count": 30,
   "metadata": {},
   "outputs": [],
   "source": [
    "#normalization\n",
    "#continuous data should always be normalized"
   ]
  },
  {
   "cell_type": "code",
   "execution_count": 31,
   "metadata": {},
   "outputs": [],
   "source": [
    "import pandas as pd\n"
   ]
  },
  {
   "cell_type": "code",
   "execution_count": 32,
   "metadata": {},
   "outputs": [
    {
     "output_type": "execute_result",
     "data": {
      "text/plain": "              age  n_siblings_spouses       parch        fare\ncount  627.000000          627.000000  627.000000  627.000000\nmean    29.631308            0.545455    0.379585   34.385399\nstd     12.511818            1.151090    0.792999   54.597730\nmin      0.750000            0.000000    0.000000    0.000000\n25%     23.000000            0.000000    0.000000    7.895800\n50%     28.000000            0.000000    0.000000   15.045800\n75%     35.000000            1.000000    0.000000   31.387500\nmax     80.000000            8.000000    5.000000  512.329200",
      "text/html": "<div>\n<style scoped>\n    .dataframe tbody tr th:only-of-type {\n        vertical-align: middle;\n    }\n\n    .dataframe tbody tr th {\n        vertical-align: top;\n    }\n\n    .dataframe thead th {\n        text-align: right;\n    }\n</style>\n<table border=\"1\" class=\"dataframe\">\n  <thead>\n    <tr style=\"text-align: right;\">\n      <th></th>\n      <th>age</th>\n      <th>n_siblings_spouses</th>\n      <th>parch</th>\n      <th>fare</th>\n    </tr>\n  </thead>\n  <tbody>\n    <tr>\n      <th>count</th>\n      <td>627.000000</td>\n      <td>627.000000</td>\n      <td>627.000000</td>\n      <td>627.000000</td>\n    </tr>\n    <tr>\n      <th>mean</th>\n      <td>29.631308</td>\n      <td>0.545455</td>\n      <td>0.379585</td>\n      <td>34.385399</td>\n    </tr>\n    <tr>\n      <th>std</th>\n      <td>12.511818</td>\n      <td>1.151090</td>\n      <td>0.792999</td>\n      <td>54.597730</td>\n    </tr>\n    <tr>\n      <th>min</th>\n      <td>0.750000</td>\n      <td>0.000000</td>\n      <td>0.000000</td>\n      <td>0.000000</td>\n    </tr>\n    <tr>\n      <th>25%</th>\n      <td>23.000000</td>\n      <td>0.000000</td>\n      <td>0.000000</td>\n      <td>7.895800</td>\n    </tr>\n    <tr>\n      <th>50%</th>\n      <td>28.000000</td>\n      <td>0.000000</td>\n      <td>0.000000</td>\n      <td>15.045800</td>\n    </tr>\n    <tr>\n      <th>75%</th>\n      <td>35.000000</td>\n      <td>1.000000</td>\n      <td>0.000000</td>\n      <td>31.387500</td>\n    </tr>\n    <tr>\n      <th>max</th>\n      <td>80.000000</td>\n      <td>8.000000</td>\n      <td>5.000000</td>\n      <td>512.329200</td>\n    </tr>\n  </tbody>\n</table>\n</div>"
     },
     "metadata": {},
     "execution_count": 32
    }
   ],
   "source": [
    "desc = pd.read_csv(train_file_path)[NUMERIC_FEATURES].describe()\n",
    "desc"
   ]
  },
  {
   "cell_type": "code",
   "execution_count": 33,
   "metadata": {},
   "outputs": [
    {
     "output_type": "execute_result",
     "data": {
      "text/plain": "                    count       mean        std   min      25%      50%  \\\nage                 627.0  29.631308  12.511818  0.75  23.0000  28.0000   \nn_siblings_spouses  627.0   0.545455   1.151090  0.00   0.0000   0.0000   \nparch               627.0   0.379585   0.792999  0.00   0.0000   0.0000   \nfare                627.0  34.385399  54.597730  0.00   7.8958  15.0458   \n\n                        75%       max  \nage                 35.0000   80.0000  \nn_siblings_spouses   1.0000    8.0000  \nparch                0.0000    5.0000  \nfare                31.3875  512.3292  ",
      "text/html": "<div>\n<style scoped>\n    .dataframe tbody tr th:only-of-type {\n        vertical-align: middle;\n    }\n\n    .dataframe tbody tr th {\n        vertical-align: top;\n    }\n\n    .dataframe thead th {\n        text-align: right;\n    }\n</style>\n<table border=\"1\" class=\"dataframe\">\n  <thead>\n    <tr style=\"text-align: right;\">\n      <th></th>\n      <th>count</th>\n      <th>mean</th>\n      <th>std</th>\n      <th>min</th>\n      <th>25%</th>\n      <th>50%</th>\n      <th>75%</th>\n      <th>max</th>\n    </tr>\n  </thead>\n  <tbody>\n    <tr>\n      <th>age</th>\n      <td>627.0</td>\n      <td>29.631308</td>\n      <td>12.511818</td>\n      <td>0.75</td>\n      <td>23.0000</td>\n      <td>28.0000</td>\n      <td>35.0000</td>\n      <td>80.0000</td>\n    </tr>\n    <tr>\n      <th>n_siblings_spouses</th>\n      <td>627.0</td>\n      <td>0.545455</td>\n      <td>1.151090</td>\n      <td>0.00</td>\n      <td>0.0000</td>\n      <td>0.0000</td>\n      <td>1.0000</td>\n      <td>8.0000</td>\n    </tr>\n    <tr>\n      <th>parch</th>\n      <td>627.0</td>\n      <td>0.379585</td>\n      <td>0.792999</td>\n      <td>0.00</td>\n      <td>0.0000</td>\n      <td>0.0000</td>\n      <td>0.0000</td>\n      <td>5.0000</td>\n    </tr>\n    <tr>\n      <th>fare</th>\n      <td>627.0</td>\n      <td>34.385399</td>\n      <td>54.597730</td>\n      <td>0.00</td>\n      <td>7.8958</td>\n      <td>15.0458</td>\n      <td>31.3875</td>\n      <td>512.3292</td>\n    </tr>\n  </tbody>\n</table>\n</div>"
     },
     "metadata": {},
     "execution_count": 33
    }
   ],
   "source": [
    "desc.T"
   ]
  },
  {
   "cell_type": "code",
   "execution_count": 34,
   "metadata": {},
   "outputs": [],
   "source": [
    "MEAN = np.array(desc.T['mean'])\n",
    "STD = np.array(desc.T['std'])"
   ]
  },
  {
   "cell_type": "code",
   "execution_count": 35,
   "metadata": {},
   "outputs": [
    {
     "output_type": "execute_result",
     "data": {
      "text/plain": "array([29.631,  0.545,  0.38 , 34.385])"
     },
     "metadata": {},
     "execution_count": 35
    }
   ],
   "source": [
    "MEAN"
   ]
  },
  {
   "cell_type": "code",
   "execution_count": 36,
   "metadata": {},
   "outputs": [],
   "source": [
    "#center the data\n",
    "def normalize_numeric_data(data, mean, std):\n",
    "    return (data-mean)/std"
   ]
  },
  {
   "cell_type": "code",
   "execution_count": 47,
   "metadata": {},
   "outputs": [],
   "source": [
    "import functools\n",
    "\n",
    "normalizer = functools.partial(normalize_numeric_data, mean = MEAN, std = STD)\n",
    "\n",
    "#this is also other way to create a numeric column\n",
    "numeric_column = tf.feature_column.numeric_column('numeric', normalizer_fn = normalizer, shape = [len(NUMERIC_FEATURES)])\n",
    "numeric_columns = [numeric_column]"
   ]
  },
  {
   "cell_type": "code",
   "execution_count": 48,
   "metadata": {},
   "outputs": [
    {
     "output_type": "execute_result",
     "data": {
      "text/plain": "NumericColumn(key='numeric', shape=(4,), default_value=None, dtype=tf.float32, normalizer_fn=functools.partial(<function normalize_numeric_data at 0x0000014D123AAF28>, mean=array([29.631,  0.545,  0.38 , 34.385]), std=array([12.512,  1.151,  0.793, 54.598])))"
     },
     "metadata": {},
     "execution_count": 48
    }
   ],
   "source": [
    "numeric_columns[0]"
   ]
  },
  {
   "cell_type": "code",
   "execution_count": 49,
   "metadata": {},
   "outputs": [
    {
     "output_type": "execute_result",
     "data": {
      "text/plain": "<tf.Tensor: shape=(5, 4), dtype=float32, numpy=\narray([[36.   ,  1.   ,  0.   , 26.   ],\n       [28.   ,  1.   ,  2.   , 23.45 ],\n       [ 6.   ,  0.   ,  1.   , 12.475],\n       [28.   ,  0.   ,  0.   , 26.   ],\n       [18.   ,  1.   ,  1.   , 20.212]], dtype=float32)>"
     },
     "metadata": {},
     "execution_count": 49
    }
   ],
   "source": [
    "example_batch['numeric']"
   ]
  },
  {
   "cell_type": "code",
   "execution_count": 50,
   "metadata": {},
   "outputs": [
    {
     "output_type": "execute_result",
     "data": {
      "text/plain": "array([[ 0.509,  0.395, -0.479, -0.154],\n       [-0.13 ,  0.395,  2.043, -0.2  ],\n       [-1.889, -0.474,  0.782, -0.401],\n       [-0.13 , -0.474, -0.479, -0.154],\n       [-0.93 ,  0.395,  0.782, -0.26 ]], dtype=float32)"
     },
     "metadata": {},
     "execution_count": 50
    }
   ],
   "source": [
    "numeric_layer  = tf.keras.layers.DenseFeatures(numeric_columns)\n",
    "numeric_layer(example_batch).numpy()"
   ]
  },
  {
   "cell_type": "code",
   "execution_count": 86,
   "metadata": {},
   "outputs": [],
   "source": [
    "#categorical_data\n"
   ]
  },
  {
   "cell_type": "code",
   "execution_count": 87,
   "metadata": {},
   "outputs": [],
   "source": [
    "CATEGORIES = {\n",
    "    'sex': ['male', 'female'],\n",
    "    'class' : ['First', 'Second', 'Third'],\n",
    "    'deck' : ['A', 'B', 'C', 'D', 'E', 'F', 'G', 'H', 'I', 'J'],\n",
    "    'embark_town' : ['Cherbourg', 'Southhampton', 'Queenstown'],\n",
    "    'alone' : ['y', 'n']\n",
    "}\n"
   ]
  },
  {
   "cell_type": "code",
   "execution_count": 88,
   "metadata": {},
   "outputs": [],
   "source": [
    "categorical_columns = []\n",
    "\n",
    "for feature, vocab in CATEGORIES.items():\n",
    "    cat_col = tf.feature_column.categorical_column_with_vocabulary_list(key = feature, vocabulary_list = vocab)\n",
    "    categorical_columns.append(tf.feature_column.indicator_column(cat_col))"
   ]
  },
  {
   "cell_type": "code",
   "execution_count": 89,
   "metadata": {},
   "outputs": [
    {
     "output_type": "execute_result",
     "data": {
      "text/plain": "[IndicatorColumn(categorical_column=VocabularyListCategoricalColumn(key='sex', vocabulary_list=('male', 'female'), dtype=tf.string, default_value=-1, num_oov_buckets=0)),\n IndicatorColumn(categorical_column=VocabularyListCategoricalColumn(key='class', vocabulary_list=('First', 'Second', 'Third'), dtype=tf.string, default_value=-1, num_oov_buckets=0)),\n IndicatorColumn(categorical_column=VocabularyListCategoricalColumn(key='deck', vocabulary_list=('A', 'B', 'C', 'D', 'E', 'F', 'G', 'H', 'I', 'J'), dtype=tf.string, default_value=-1, num_oov_buckets=0)),\n IndicatorColumn(categorical_column=VocabularyListCategoricalColumn(key='embark_town', vocabulary_list=('Cherbourg', 'Southhampton', 'Queenstown'), dtype=tf.string, default_value=-1, num_oov_buckets=0)),\n IndicatorColumn(categorical_column=VocabularyListCategoricalColumn(key='alone', vocabulary_list=('y', 'n'), dtype=tf.string, default_value=-1, num_oov_buckets=0))]"
     },
     "metadata": {},
     "execution_count": 89
    }
   ],
   "source": [
    "categorical_columns"
   ]
  },
  {
   "cell_type": "code",
   "execution_count": 91,
   "metadata": {},
   "outputs": [
    {
     "output_type": "stream",
     "name": "stdout",
     "text": "[[1. 0. 0. 0. 1. 0. 0. 0. 0. 0. 0. 0. 0. 0. 0. 0. 0. 0. 1. 0.]\n [0. 1. 0. 0. 1. 0. 0. 0. 0. 0. 0. 0. 0. 0. 0. 1. 0. 0. 0. 1.]\n [1. 0. 1. 0. 0. 1. 0. 0. 0. 0. 0. 0. 0. 0. 0. 0. 0. 0. 1. 0.]\n [1. 0. 0. 0. 1. 0. 0. 0. 0. 0. 0. 0. 0. 0. 0. 0. 0. 0. 1. 0.]\n [1. 0. 0. 0. 1. 0. 0. 0. 0. 0. 0. 0. 0. 0. 0. 0. 0. 0. 1. 0.]]\n"
    }
   ],
   "source": [
    "categorical_layer = tf.keras.layers.DenseFeatures(categorical_columns)\n",
    "print(categorical_layer(example_batch).numpy())"
   ]
  },
  {
   "cell_type": "code",
   "execution_count": 92,
   "metadata": {},
   "outputs": [],
   "source": [
    "#combining all the feature layers"
   ]
  },
  {
   "cell_type": "code",
   "execution_count": 94,
   "metadata": {},
   "outputs": [],
   "source": [
    "preprocessing_layer = tf.keras.layers.DenseFeatures(categorical_columns + numeric_columns)\n"
   ]
  },
  {
   "cell_type": "code",
   "execution_count": 98,
   "metadata": {},
   "outputs": [
    {
     "output_type": "stream",
     "name": "stdout",
     "text": "[ 1.     0.     0.     0.     1.     0.     0.     0.     0.     0.\n  0.     0.     0.     0.     0.     0.     0.     0.    -0.37  -0.474\n -0.479 -0.63   1.     0.   ]\n"
    }
   ],
   "source": [
    "print(preprocessing_layer(example_batch).numpy()[0])"
   ]
  },
  {
   "cell_type": "code",
   "execution_count": 99,
   "metadata": {},
   "outputs": [],
   "source": [
    "#building the model"
   ]
  },
  {
   "cell_type": "code",
   "execution_count": 100,
   "metadata": {},
   "outputs": [],
   "source": [
    "model = tf.keras.Sequential(preprocessing_layer)\n",
    "model.add(tf.keras.layers.Dense(128, activation = 'relu'))\n",
    "model.add(tf.keras.layers.Dense(128, activation = 'relu'))\n",
    "model.add(tf.keras.layers.Dense(1))\n",
    "\n",
    "model.compile(loss = tf.keras.losses.BinaryCrossentropy(from_logits = True), optimizer = 'adam', metrics = ['accuracy'])"
   ]
  },
  {
   "cell_type": "code",
   "execution_count": 102,
   "metadata": {},
   "outputs": [],
   "source": [
    "train_data = packed_train_data.shuffle(500)\n",
    "test_data = packed_test_data"
   ]
  },
  {
   "cell_type": "code",
   "execution_count": 105,
   "metadata": {},
   "outputs": [
    {
     "output_type": "stream",
     "name": "stdout",
     "text": "Epoch 1/20\n126/126 [==============================] - 1s 9ms/step - loss: 0.2661 - accuracy: 0.8820\nEpoch 2/20\n126/126 [==============================] - 1s 8ms/step - loss: 0.2674 - accuracy: 0.8804\nEpoch 3/20\n126/126 [==============================] - 1s 7ms/step - loss: 0.2630 - accuracy: 0.8884\nEpoch 4/20\n126/126 [==============================] - 1s 7ms/step - loss: 0.2658 - accuracy: 0.8884\nEpoch 5/20\n126/126 [==============================] - 1s 7ms/step - loss: 0.2647 - accuracy: 0.8772\nEpoch 6/20\n126/126 [==============================] - 1s 6ms/step - loss: 0.2619 - accuracy: 0.8884\nEpoch 7/20\n126/126 [==============================] - 1s 5ms/step - loss: 0.2616 - accuracy: 0.8788\nEpoch 8/20\n126/126 [==============================] - 1s 6ms/step - loss: 0.2584 - accuracy: 0.8804\nEpoch 9/20\n126/126 [==============================] - 1s 6ms/step - loss: 0.2637 - accuracy: 0.8788\nEpoch 10/20\n126/126 [==============================] - 1s 6ms/step - loss: 0.2558 - accuracy: 0.8804\nEpoch 11/20\n126/126 [==============================] - 1s 7ms/step - loss: 0.2532 - accuracy: 0.8884\nEpoch 12/20\n126/126 [==============================] - 1s 6ms/step - loss: 0.2480 - accuracy: 0.8836\nEpoch 13/20\n126/126 [==============================] - 1s 7ms/step - loss: 0.2580 - accuracy: 0.8804\nEpoch 14/20\n126/126 [==============================] - 1s 6ms/step - loss: 0.2580 - accuracy: 0.8836\nEpoch 15/20\n126/126 [==============================] - 1s 7ms/step - loss: 0.2512 - accuracy: 0.8884\nEpoch 16/20\n126/126 [==============================] - 1s 6ms/step - loss: 0.2539 - accuracy: 0.8884\nEpoch 17/20\n126/126 [==============================] - 1s 7ms/step - loss: 0.2537 - accuracy: 0.8804\nEpoch 18/20\n126/126 [==============================] - 1s 7ms/step - loss: 0.2488 - accuracy: 0.8868\nEpoch 19/20\n126/126 [==============================] - 1s 6ms/step - loss: 0.2454 - accuracy: 0.8852\nEpoch 20/20\n126/126 [==============================] - 1s 9ms/step - loss: 0.2417 - accuracy: 0.8963\n"
    },
    {
     "output_type": "execute_result",
     "data": {
      "text/plain": "<tensorflow.python.keras.callbacks.History at 0x19e13860a20>"
     },
     "metadata": {},
     "execution_count": 105
    }
   ],
   "source": [
    "model.fit(train_data, epochs = 20)"
   ]
  },
  {
   "cell_type": "code",
   "execution_count": 107,
   "metadata": {},
   "outputs": [
    {
     "output_type": "stream",
     "name": "stdout",
     "text": "     53/Unknown - 1s 11ms/step - loss: 0.6501 - accuracy: 0.8371"
    }
   ],
   "source": [
    "test_loss, test_accuracy = model.evaluate(test_data)"
   ]
  },
  {
   "cell_type": "code",
   "execution_count": 110,
   "metadata": {},
   "outputs": [
    {
     "output_type": "stream",
     "name": "stdout",
     "text": "Predicted survival: 0.62%  | Actual outcome:  DIED\nPredicted survival: 14.63%  | Actual outcome:  DIED\nPredicted survival: 24.55%  | Actual outcome:  DIED\nPredicted survival: 4.27%  | Actual outcome:  DIED\nPredicted survival: 6.51%  | Actual outcome:  SURVIVED\n"
    }
   ],
   "source": [
    "predictions = model.predict(test_data)\n",
    "\n",
    "# Show some results\n",
    "for prediction, survived in zip(predictions[:10], list(test_data)[0][1][:10]):\n",
    "  prediction = tf.sigmoid(prediction).numpy()\n",
    "  print(\"Predicted survival: {:.2%}\".format(prediction[0]),\n",
    "        \" | Actual outcome: \",\n",
    "        (\"SURVIVED\" if bool(survived) else \"DIED\"))\n"
   ]
  },
  {
   "cell_type": "code",
   "execution_count": null,
   "metadata": {},
   "outputs": [],
   "source": []
  }
 ],
 "metadata": {
  "language_info": {
   "codemirror_mode": {
    "name": "ipython",
    "version": 3
   },
   "file_extension": ".py",
   "mimetype": "text/x-python",
   "name": "python",
   "nbconvert_exporter": "python",
   "pygments_lexer": "ipython3",
   "version": "3.7.0-final"
  },
  "orig_nbformat": 2,
  "kernelspec": {
   "name": "python37064bit59cde4ac88ac46128fa55d3d84c36661",
   "display_name": "Python 3.7.0 64-bit"
  }
 },
 "nbformat": 4,
 "nbformat_minor": 2
}