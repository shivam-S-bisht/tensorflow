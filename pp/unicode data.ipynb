{
  "nbformat": 4,
  "nbformat_minor": 0,
  "metadata": {
    "colab": {
      "name": "unicode data.ipynb",
      "provenance": [],
      "collapsed_sections": []
    },
    "kernelspec": {
      "name": "python3",
      "display_name": "Python 3"
    }
  },
  "cells": [
    {
      "cell_type": "code",
      "metadata": {
        "id": "l8d6NQQ6u_T2",
        "colab_type": "code",
        "colab": {}
      },
      "source": [
        "import tensorflow as tf\n"
      ],
      "execution_count": 0,
      "outputs": []
    },
    {
      "cell_type": "code",
      "metadata": {
        "id": "7YJ8tXP4vQ_c",
        "colab_type": "code",
        "colab": {
          "base_uri": "https://localhost:8080/",
          "height": 35
        },
        "outputId": "45b8972b-7bf0-4e99-fcd8-6b47ca66d4b3"
      },
      "source": [
        "# unicode strings are utf-8 encoded by default\n",
        "\n",
        "tf.constant(u\"Thanks 😊\")"
      ],
      "execution_count": 2,
      "outputs": [
        {
          "output_type": "execute_result",
          "data": {
            "text/plain": [
              "<tf.Tensor: shape=(), dtype=string, numpy=b'Thanks \\xf0\\x9f\\x98\\x8a'>"
            ]
          },
          "metadata": {
            "tags": []
          },
          "execution_count": 2
        }
      ]
    },
    {
      "cell_type": "code",
      "metadata": {
        "id": "rMgPo1H1AA17",
        "colab_type": "code",
        "colab": {
          "base_uri": "https://localhost:8080/",
          "height": 35
        },
        "outputId": "6947392d-5aed-4447-da46-a68fce6322e0"
      },
      "source": [
        "# each string in the unicode is considered as a songle character\n",
        "\n",
        "tf.constant([u\"You're\", u\"welcome!\"]).shape"
      ],
      "execution_count": 4,
      "outputs": [
        {
          "output_type": "execute_result",
          "data": {
            "text/plain": [
              "TensorShape([2])"
            ]
          },
          "metadata": {
            "tags": []
          },
          "execution_count": 4
        }
      ]
    },
    {
      "cell_type": "code",
      "metadata": {
        "id": "Qj958_DSAGdc",
        "colab_type": "code",
        "colab": {
          "base_uri": "https://localhost:8080/",
          "height": 55
        },
        "outputId": "612577ae-f1b7-49db-9db7-5679b3831f7d"
      },
      "source": [
        "# utf-8 representation of a unicode string\n",
        "text_utf8 = tf.constant(u\"语言处理\")\n",
        "text_utf8"
      ],
      "execution_count": 13,
      "outputs": [
        {
          "output_type": "execute_result",
          "data": {
            "text/plain": [
              "<tf.Tensor: shape=(), dtype=string, numpy=b'\\xe8\\xaf\\xad\\xe8\\xa8\\x80\\xe5\\xa4\\x84\\xe7\\x90\\x86'>"
            ]
          },
          "metadata": {
            "tags": []
          },
          "execution_count": 13
        }
      ]
    },
    {
      "cell_type": "code",
      "metadata": {
        "id": "Jh_ZVreZAx5G",
        "colab_type": "code",
        "colab": {
          "base_uri": "https://localhost:8080/",
          "height": 35
        },
        "outputId": "4a96a774-db10-43a3-8788-76be149f3062"
      },
      "source": [
        "# utf-16-BE encoded representation of unicode string\n",
        "text_utf16be = tf.constant(u\"语言处理\".encode('UTF-16-BE'))\n",
        "text_utf16be"
      ],
      "execution_count": 15,
      "outputs": [
        {
          "output_type": "execute_result",
          "data": {
            "text/plain": [
              "<tf.Tensor: shape=(), dtype=string, numpy=b'\\x8b\\xed\\x8a\\x00Y\\x04t\\x06'>"
            ]
          },
          "metadata": {
            "tags": []
          },
          "execution_count": 15
        }
      ]
    },
    {
      "cell_type": "code",
      "metadata": {
        "id": "Pd_jfsblBBzk",
        "colab_type": "code",
        "colab": {
          "base_uri": "https://localhost:8080/",
          "height": 55
        },
        "outputId": "bdcb09c4-dab0-479b-e4c4-953984c7c530"
      },
      "source": [
        "# ubicode string represented as unicode code points\n",
        "text_chars = tf.constant([ord(char) for char in u'语言处理'])\n",
        "text_chars"
      ],
      "execution_count": 16,
      "outputs": [
        {
          "output_type": "execute_result",
          "data": {
            "text/plain": [
              "<tf.Tensor: shape=(4,), dtype=int32, numpy=array([35821, 35328, 22788, 29702], dtype=int32)>"
            ]
          },
          "metadata": {
            "tags": []
          },
          "execution_count": 16
        }
      ]
    },
    {
      "cell_type": "code",
      "metadata": {
        "id": "O9t_p1yhBVn4",
        "colab_type": "code",
        "colab": {
          "base_uri": "https://localhost:8080/",
          "height": 55
        },
        "outputId": "0b0cd276-2054-40dc-a3ef-0ddaa762e821"
      },
      "source": [
        "# utf-8 to unicode code points\n",
        "tf.strings.unicode_decode(text_utf8, input_encoding = 'UTF-8')"
      ],
      "execution_count": 18,
      "outputs": [
        {
          "output_type": "execute_result",
          "data": {
            "text/plain": [
              "<tf.Tensor: shape=(4,), dtype=int32, numpy=array([35821, 35328, 22788, 29702], dtype=int32)>"
            ]
          },
          "metadata": {
            "tags": []
          },
          "execution_count": 18
        }
      ]
    },
    {
      "cell_type": "code",
      "metadata": {
        "id": "o6rhGe1ZBytn",
        "colab_type": "code",
        "colab": {
          "base_uri": "https://localhost:8080/",
          "height": 55
        },
        "outputId": "7cb9d4ff-5fa2-4a0f-f1de-f60d8b1dc995"
      },
      "source": [
        "# unicode code to utf-8\n",
        "tf.strings.unicode_encode(text_chars, output_encoding = 'UTF-8')"
      ],
      "execution_count": 19,
      "outputs": [
        {
          "output_type": "execute_result",
          "data": {
            "text/plain": [
              "<tf.Tensor: shape=(), dtype=string, numpy=b'\\xe8\\xaf\\xad\\xe8\\xa8\\x80\\xe5\\xa4\\x84\\xe7\\x90\\x86'>"
            ]
          },
          "metadata": {
            "tags": []
          },
          "execution_count": 19
        }
      ]
    },
    {
      "cell_type": "code",
      "metadata": {
        "id": "c3TzOS9yCq7m",
        "colab_type": "code",
        "colab": {
          "base_uri": "https://localhost:8080/",
          "height": 35
        },
        "outputId": "5328a257-d7d1-4c5b-af9f-8294b85e50c4"
      },
      "source": [
        "# utf-8 to utf-16-BE\n",
        "tf.strings.unicode_transcode(text_utf8, input_encoding = 'UTF-8', output_encoding = 'UTF-16-BE')"
      ],
      "execution_count": 20,
      "outputs": [
        {
          "output_type": "execute_result",
          "data": {
            "text/plain": [
              "<tf.Tensor: shape=(), dtype=string, numpy=b'\\x8b\\xed\\x8a\\x00Y\\x04t\\x06'>"
            ]
          },
          "metadata": {
            "tags": []
          },
          "execution_count": 20
        }
      ]
    },
    {
      "cell_type": "code",
      "metadata": {
        "id": "lDeKi1KuC7EM",
        "colab_type": "code",
        "colab": {}
      },
      "source": [
        "# while decodeing multiple strings in a batch, the no. of strings may be not equal"
      ],
      "execution_count": 0,
      "outputs": []
    },
    {
      "cell_type": "code",
      "metadata": {
        "id": "4PaxOvv4DPMj",
        "colab_type": "code",
        "colab": {
          "base_uri": "https://localhost:8080/",
          "height": 110
        },
        "outputId": "a229e199-e6a0-4f36-f7d2-c21ed886bd60"
      },
      "source": [
        "#encding unicode with utf-8\n",
        "batch_utf8 = [s.encode('UTF-8') for s in [u'hÃllo',  u'What is the weather tomorrow',  u'Göödnight', u'😊']]\n",
        "\n",
        "#decoding utf-8 to unicode code\n",
        "batch_chars_ragged = tf.strings.unicode_decode(batch_utf8, input_encoding = 'UTF-8')\n",
        "\n",
        "for chars in batch_chars_ragged.to_list():\n",
        "    print(chars)"
      ],
      "execution_count": 25,
      "outputs": [
        {
          "output_type": "stream",
          "text": [
            "[104, 195, 108, 108, 111]\n",
            "[87, 104, 97, 116, 32, 105, 115, 32, 116, 104, 101, 32, 119, 101, 97, 116, 104, 101, 114, 32, 116, 111, 109, 111, 114, 114, 111, 119]\n",
            "[71, 246, 246, 100, 110, 105, 103, 104, 116]\n",
            "[128522]\n"
          ],
          "name": "stdout"
        }
      ]
    },
    {
      "cell_type": "code",
      "metadata": {
        "id": "GmwvDHJzExPL",
        "colab_type": "code",
        "colab": {
          "base_uri": "https://localhost:8080/",
          "height": 326
        },
        "outputId": "eafb835c-f930-4879-a21c-5b0ddf37cf47"
      },
      "source": [
        "# we need to do the paddinng \n",
        "batch_padded_chars = batch_chars_ragged.to_tensor(default_value = -1)\n",
        "batch_padded_chars"
      ],
      "execution_count": 28,
      "outputs": [
        {
          "output_type": "execute_result",
          "data": {
            "text/plain": [
              "<tf.Tensor: shape=(4, 28), dtype=int32, numpy=\n",
              "array([[   104,    195,    108,    108,    111,     -1,     -1,     -1,\n",
              "            -1,     -1,     -1,     -1,     -1,     -1,     -1,     -1,\n",
              "            -1,     -1,     -1,     -1,     -1,     -1,     -1,     -1,\n",
              "            -1,     -1,     -1,     -1],\n",
              "       [    87,    104,     97,    116,     32,    105,    115,     32,\n",
              "           116,    104,    101,     32,    119,    101,     97,    116,\n",
              "           104,    101,    114,     32,    116,    111,    109,    111,\n",
              "           114,    114,    111,    119],\n",
              "       [    71,    246,    246,    100,    110,    105,    103,    104,\n",
              "           116,     -1,     -1,     -1,     -1,     -1,     -1,     -1,\n",
              "            -1,     -1,     -1,     -1,     -1,     -1,     -1,     -1,\n",
              "            -1,     -1,     -1,     -1],\n",
              "       [128522,     -1,     -1,     -1,     -1,     -1,     -1,     -1,\n",
              "            -1,     -1,     -1,     -1,     -1,     -1,     -1,     -1,\n",
              "            -1,     -1,     -1,     -1,     -1,     -1,     -1,     -1,\n",
              "            -1,     -1,     -1,     -1]], dtype=int32)>"
            ]
          },
          "metadata": {
            "tags": []
          },
          "execution_count": 28
        }
      ]
    },
    {
      "cell_type": "code",
      "metadata": {
        "id": "kz4gVSq0FTOh",
        "colab_type": "code",
        "colab": {
          "base_uri": "https://localhost:8080/",
          "height": 326
        },
        "outputId": "5a7477a8-1f07-4dcc-b0e6-de1c673baecc"
      },
      "source": [
        "# or we can use to_sparse()\n",
        "batch_chars_sparse = batch_chars_ragged.to_sparse()\n",
        "batch_padded_chars"
      ],
      "execution_count": 30,
      "outputs": [
        {
          "output_type": "execute_result",
          "data": {
            "text/plain": [
              "<tf.Tensor: shape=(4, 28), dtype=int32, numpy=\n",
              "array([[   104,    195,    108,    108,    111,     -1,     -1,     -1,\n",
              "            -1,     -1,     -1,     -1,     -1,     -1,     -1,     -1,\n",
              "            -1,     -1,     -1,     -1,     -1,     -1,     -1,     -1,\n",
              "            -1,     -1,     -1,     -1],\n",
              "       [    87,    104,     97,    116,     32,    105,    115,     32,\n",
              "           116,    104,    101,     32,    119,    101,     97,    116,\n",
              "           104,    101,    114,     32,    116,    111,    109,    111,\n",
              "           114,    114,    111,    119],\n",
              "       [    71,    246,    246,    100,    110,    105,    103,    104,\n",
              "           116,     -1,     -1,     -1,     -1,     -1,     -1,     -1,\n",
              "            -1,     -1,     -1,     -1,     -1,     -1,     -1,     -1,\n",
              "            -1,     -1,     -1,     -1],\n",
              "       [128522,     -1,     -1,     -1,     -1,     -1,     -1,     -1,\n",
              "            -1,     -1,     -1,     -1,     -1,     -1,     -1,     -1,\n",
              "            -1,     -1,     -1,     -1,     -1,     -1,     -1,     -1,\n",
              "            -1,     -1,     -1,     -1]], dtype=int32)>"
            ]
          },
          "metadata": {
            "tags": []
          },
          "execution_count": 30
        }
      ]
    },
    {
      "cell_type": "code",
      "metadata": {
        "id": "egS3hoa5FmVX",
        "colab_type": "code",
        "colab": {}
      },
      "source": [
        ""
      ],
      "execution_count": 0,
      "outputs": []
    }
  ]
}