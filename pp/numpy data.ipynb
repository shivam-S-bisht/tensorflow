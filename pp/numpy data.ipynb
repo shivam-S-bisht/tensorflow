{
 "cells": [
  {
   "cell_type": "code",
   "execution_count": 1,
   "metadata": {},
   "outputs": [],
   "source": [
    "import numpy as np\n",
    "import tensorflow as tf\n"
   ]
  },
  {
   "cell_type": "code",
   "execution_count": 2,
   "metadata": {},
   "outputs": [],
   "source": [
    "DATA_URL = 'https://storage.googleapis.com/tensorflow/tf-keras-datasets/mnist.npz'\n",
    "\n",
    "path = tf.keras.utils.get_file('mnist.npz', DATA_URL)\n",
    "with np.load(path) as data: \n",
    "    train_examples = data['x_train']\n",
    "    train_labels = data['y_train']\n",
    "    test_examples = data['x_test']\n",
    "    test_labels = data['y_test']"
   ]
  },
  {
   "cell_type": "code",
   "execution_count": 5,
   "metadata": {},
   "outputs": [],
   "source": [
    "#making dataset for train and test\n",
    "\n",
    "train_dataset = tf.data.Dataset.from_tensor_slices((train_examples, train_labels))\n",
    "test_dataset = tf.data.Dataset.from_tensor_slices((test_examples, test_labels))"
   ]
  },
  {
   "cell_type": "code",
   "execution_count": 6,
   "metadata": {},
   "outputs": [],
   "source": [
    "batch_size = 64\n",
    "shuffle_buffer_size = 100\n",
    "\n",
    "train_dataset = train_dataset.shuffle(shuffle_buffer_size).batch(batch_size)\n",
    "test_dataset = test_dataset.shuffle(shuffle_buffer_size).batch(batch_size)"
   ]
  },
  {
   "cell_type": "code",
   "execution_count": 9,
   "metadata": {},
   "outputs": [
    {
     "output_type": "stream",
     "name": "stdout",
     "text": "Train for 938 steps\nEpoch 1/10\n938/938 [==============================] - 3s 3ms/step - loss: 3.1685 - sparse_categorical_accuracy: 0.8755\nEpoch 2/10\n938/938 [==============================] - 2s 3ms/step - loss: 0.4881 - sparse_categorical_accuracy: 0.9280\nEpoch 3/10\n938/938 [==============================] - 2s 3ms/step - loss: 0.3793 - sparse_categorical_accuracy: 0.9460\nEpoch 4/10\n938/938 [==============================] - 2s 3ms/step - loss: 0.3234 - sparse_categorical_accuracy: 0.9555\nEpoch 5/10\n938/938 [==============================] - 2s 3ms/step - loss: 0.2893 - sparse_categorical_accuracy: 0.9595\nEpoch 6/10\n938/938 [==============================] - 3s 3ms/step - loss: 0.2621 - sparse_categorical_accuracy: 0.9651\nEpoch 7/10\n938/938 [==============================] - 3s 3ms/step - loss: 0.2419 - sparse_categorical_accuracy: 0.9674\nEpoch 8/10\n938/938 [==============================] - 2s 3ms/step - loss: 0.2148 - sparse_categorical_accuracy: 0.9710\nEpoch 9/10\n938/938 [==============================] - 2s 3ms/step - loss: 0.2202 - sparse_categorical_accuracy: 0.9725\nEpoch 10/10\n938/938 [==============================] - 2s 3ms/step - loss: 0.2014 - sparse_categorical_accuracy: 0.9738\n"
    },
    {
     "output_type": "execute_result",
     "data": {
      "text/plain": "<tensorflow.python.keras.callbacks.History at 0x27e4f7d3fd0>"
     },
     "metadata": {},
     "execution_count": 9
    }
   ],
   "source": [
    "model = tf.keras.Sequential()\n",
    "model.add(tf.keras.layers.Flatten(input_shape = (28, 28)))\n",
    "model.add(tf.keras.layers.Dense(128, activation = 'relu'))\n",
    "model.add(tf.keras.layers.Dense(10))\n",
    "\n",
    "model.compile(optimizer = tf.keras.optimizers.RMSprop(), loss = tf.keras.losses.SparseCategoricalCrossentropy(from_logits = True), metrics = ['sparse_categorical_accuracy'])\n",
    "model.fit(train_dataset, epochs = 10)"
   ]
  },
  {
   "cell_type": "code",
   "execution_count": 10,
   "metadata": {},
   "outputs": [
    {
     "output_type": "stream",
     "name": "stdout",
     "text": "157/157 [==============================] - 1s 3ms/step - loss: 0.5631 - sparse_categorical_accuracy: 0.9576\n"
    },
    {
     "output_type": "execute_result",
     "data": {
      "text/plain": "[0.5630853967239112, 0.9576]"
     },
     "metadata": {},
     "execution_count": 10
    }
   ],
   "source": [
    "model.evaluate(test_dataset)"
   ]
  },
  {
   "cell_type": "code",
   "execution_count": null,
   "metadata": {},
   "outputs": [],
   "source": []
  }
 ],
 "metadata": {
  "language_info": {
   "codemirror_mode": {
    "name": "ipython",
    "version": 3
   },
   "file_extension": ".py",
   "mimetype": "text/x-python",
   "name": "python",
   "nbconvert_exporter": "python",
   "pygments_lexer": "ipython3",
   "version": "3.7.0-final"
  },
  "orig_nbformat": 2,
  "kernelspec": {
   "name": "python37064bit59cde4ac88ac46128fa55d3d84c36661",
   "display_name": "Python 3.7.0 64-bit"
  }
 },
 "nbformat": 4,
 "nbformat_minor": 2
}