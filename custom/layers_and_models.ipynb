{
  "nbformat": 4,
  "nbformat_minor": 0,
  "metadata": {
    "colab": {
      "name": "layers and moels.ipynb",
      "provenance": [],
      "collapsed_sections": []
    },
    "kernelspec": {
      "name": "python3",
      "display_name": "Python 3"
    }
  },
  "cells": [
    {
      "cell_type": "code",
      "metadata": {
        "id": "7Ns1R8yUGi7c",
        "colab_type": "code",
        "colab": {}
      },
      "source": [
        "# fully from scratch"
      ],
      "execution_count": 0,
      "outputs": []
    },
    {
      "cell_type": "code",
      "metadata": {
        "id": "Np7_6829G-k8",
        "colab_type": "code",
        "colab": {}
      },
      "source": [
        "import tensorflow as tf\n"
      ],
      "execution_count": 0,
      "outputs": []
    },
    {
      "cell_type": "code",
      "metadata": {
        "id": "Z0HcI0CKHCIR",
        "colab_type": "code",
        "outputId": "103d72fa-21d7-4bdc-baa2-68d66d697ace",
        "colab": {
          "base_uri": "https://localhost:8080/",
          "height": 72
        }
      },
      "source": [
        "class Linear(tf.keras.layers.Layer):\n",
        "    def __init__(self, units = 32, input_dim = 32):\n",
        "        super(Linear, self).__init__()\n",
        "\n",
        "        w_init = tf.random_normal_initializer()\n",
        "        self.w = tf.Variable(initial_value = w_init(shape = (input_dim, units), dtype = 'float32'), trainable = True)\n",
        "\n",
        "        b_init = tf.zeros_initializer()\n",
        "        self.b = tf.Variable(initial_value = b_init(shape = (units, ), dtype = 'float32'), trainable = True)\n",
        "\n",
        "    \n",
        "    def call(self, inputs):\n",
        "        return tf.matmul(inputs, self.w) + self.b\n",
        "\n",
        "\n",
        "x = tf.ones((2, 2))\n",
        "\n",
        "#__init__ method called\n",
        "linear = Linear(4, 2)\n",
        "\n",
        "#call method called\n",
        "y = linear(x)\n",
        "\n",
        "print(y)"
      ],
      "execution_count": 0,
      "outputs": [
        {
          "output_type": "stream",
          "text": [
            "tf.Tensor(\n",
            "[[-0.19652408 -0.0966994  -0.04165873  0.07429425]\n",
            " [-0.19652408 -0.0966994  -0.04165873  0.07429425]], shape=(2, 4), dtype=float32)\n"
          ],
          "name": "stdout"
        }
      ]
    },
    {
      "cell_type": "code",
      "metadata": {
        "id": "idDjpZc5JAzE",
        "colab_type": "code",
        "colab": {}
      },
      "source": [
        "assert linear.weights == [linear.w, linear.b]\n"
      ],
      "execution_count": 0,
      "outputs": []
    },
    {
      "cell_type": "code",
      "metadata": {
        "id": "TRL3Gb27JFqz",
        "colab_type": "code",
        "colab": {}
      },
      "source": [
        "# using add_weight method"
      ],
      "execution_count": 0,
      "outputs": []
    },
    {
      "cell_type": "code",
      "metadata": {
        "id": "bG0yn1PDJPlB",
        "colab_type": "code",
        "colab": {}
      },
      "source": [
        "class Linear(tf.keras.layers.Layer):\n",
        "\n",
        "    def __init__(self, units = 32, input_dim = 32):\n",
        "        super(Linear, self).__init__()\n",
        "\n",
        "        self.w = self.add_weight(shape = (input_dim, units), initializer = 'random_normal', trainable = True)\n",
        "\n",
        "        self.b = self.add_weight(shape = (units, ), initializer = 'zeros')\n",
        "\n",
        "    \n",
        "    def call(self, inputs):\n",
        "        return tf.matmul(inputs, self.w) + self.b\n",
        "\n",
        "x = tf.ones([2, 2])\n",
        "linear = Linear(4, 2)\n",
        "y = linear(x)\n",
        "\n",
        "        "
      ],
      "execution_count": 0,
      "outputs": []
    },
    {
      "cell_type": "code",
      "metadata": {
        "id": "qMuV1ob5xFuw",
        "colab_type": "code",
        "colab": {}
      },
      "source": [
        "# non-trainable weights cannot taken durig backpropogation"
      ],
      "execution_count": 0,
      "outputs": []
    },
    {
      "cell_type": "code",
      "metadata": {
        "id": "HZAWiMaaxnUY",
        "colab_type": "code",
        "colab": {}
      },
      "source": [
        "# it is recommend to initialize weights in build function"
      ],
      "execution_count": 0,
      "outputs": []
    },
    {
      "cell_type": "code",
      "metadata": {
        "id": "NFGeM02GyFEl",
        "colab_type": "code",
        "colab": {}
      },
      "source": [
        "class Linear(tf.keras.layers.Layer):\n",
        "    def __init__(self, units = 32):\n",
        "        super(Linear, self).__init__()\n",
        "        self.units = units\n",
        "\n",
        "    def build(self, input_shape):\n",
        "        self.w = self.add_weight(shape = (input_shape[-1], self.units), initializer = 'random_normal', trainable = True)\n",
        "        self.b = self.add_weight(shape = (self.units, ), initializer = 'random_normal', trainable = True)\n",
        "\n",
        "    def call(self, inputs):\n",
        "        return tf.matmul(inputs, self.w) + self.b\n",
        "\n"
      ],
      "execution_count": 0,
      "outputs": []
    },
    {
      "cell_type": "code",
      "metadata": {
        "id": "pojz7I3r4J2w",
        "colab_type": "code",
        "colab": {}
      },
      "source": [
        "linear_layer = Linear(32)\n",
        "y = linear_layer(x)"
      ],
      "execution_count": 0,
      "outputs": []
    },
    {
      "cell_type": "code",
      "metadata": {
        "id": "DkJ9wcs1Bqga",
        "colab_type": "code",
        "outputId": "d05ccdc1-beee-4361-dbf6-9005be8c9f49",
        "colab": {
          "base_uri": "https://localhost:8080/",
          "height": 290
        }
      },
      "source": [
        "y"
      ],
      "execution_count": 0,
      "outputs": [
        {
          "output_type": "execute_result",
          "data": {
            "text/plain": [
              "<tf.Tensor: shape=(2, 32), dtype=float32, numpy=\n",
              "array([[ 0.15316638, -0.00408052, -0.03939756, -0.03556833,  0.11247923,\n",
              "        -0.1363092 , -0.08122693,  0.15696126,  0.16924721, -0.07014477,\n",
              "        -0.0465714 , -0.03588439,  0.11284909,  0.01192444, -0.02960798,\n",
              "        -0.00604918,  0.0540213 , -0.09195482, -0.04905231, -0.01379287,\n",
              "         0.01985393, -0.20700842, -0.10167944, -0.08707403,  0.13204019,\n",
              "        -0.0651741 , -0.0039934 , -0.00381964,  0.00098265, -0.07091521,\n",
              "         0.01455342, -0.03218016],\n",
              "       [ 0.15316638, -0.00408052, -0.03939756, -0.03556833,  0.11247923,\n",
              "        -0.1363092 , -0.08122693,  0.15696126,  0.16924721, -0.07014477,\n",
              "        -0.0465714 , -0.03588439,  0.11284909,  0.01192444, -0.02960798,\n",
              "        -0.00604918,  0.0540213 , -0.09195482, -0.04905231, -0.01379287,\n",
              "         0.01985393, -0.20700842, -0.10167944, -0.08707403,  0.13204019,\n",
              "        -0.0651741 , -0.0039934 , -0.00381964,  0.00098265, -0.07091521,\n",
              "         0.01455342, -0.03218016]], dtype=float32)>"
            ]
          },
          "metadata": {
            "tags": []
          },
          "execution_count": 11
        }
      ]
    },
    {
      "cell_type": "code",
      "metadata": {
        "id": "BYmYcn9cCGkL",
        "colab_type": "code",
        "colab": {}
      },
      "source": [
        "#layers canbe recursively callable \n",
        "\n",
        "# we can assign a layer as an attribute of the anotehr layer, the outer layer will keep tracking oof the weights of the inner layer"
      ],
      "execution_count": 0,
      "outputs": []
    },
    {
      "cell_type": "code",
      "metadata": {
        "id": "dEBsZsu9DmKW",
        "colab_type": "code",
        "colab": {}
      },
      "source": [
        "class MLPBlock(tf.keras.layers.Layer):\n",
        "    \n",
        "    def __init__(self):\n",
        "        super(MLPBlock, self).__init__()\n",
        "\n",
        "        self.linear_1 = Linear(32)\n",
        "        self.linear_2 = Linear(32)\n",
        "        self.linear_3 = Linear(1)\n",
        "\n",
        "    \n",
        "    def call(self, inputs):\n",
        "        x = self.linear_1(inputs)\n",
        "        x = tf.nn.relu(x)\n",
        "        x = self.linear_2(x)\n",
        "        x = tf.nn.relu(x)\n",
        "        return self.linear_3(x)\n",
        "\n",
        "\n",
        "\n",
        "mlp = MLPBlock()\n",
        "y = mlp(tf.ones((3, 64)))"
      ],
      "execution_count": 0,
      "outputs": []
    },
    {
      "cell_type": "code",
      "metadata": {
        "id": "AqJqbd_cDs6R",
        "colab_type": "code",
        "outputId": "0391ce71-f844-4819-c2e8-ae9acb1b1827",
        "colab": {
          "base_uri": "https://localhost:8080/",
          "height": 53
        }
      },
      "source": [
        "print(len(mlp.weights))\n",
        "print(len(mlp.trainable_weights))"
      ],
      "execution_count": 0,
      "outputs": [
        {
          "output_type": "stream",
          "text": [
            "6\n",
            "6\n"
          ],
          "name": "stdout"
        }
      ]
    },
    {
      "cell_type": "code",
      "metadata": {
        "id": "pl5SmTBxa9SW",
        "colab_type": "code",
        "colab": {}
      },
      "source": [
        "# losses can also be recursively collected during the forward pass"
      ],
      "execution_count": 0,
      "outputs": []
    },
    {
      "cell_type": "code",
      "metadata": {
        "id": "YYKvvFqKbcRd",
        "colab_type": "code",
        "colab": {}
      },
      "source": [
        "class ActivityRegularisationLayer(tf.keras.layers.Layer):\n",
        "    def __init__(self, rate = 1e-2):\n",
        "        super(ActivityRegularisationLayer, self).__init__()\n",
        "        self.rate = rate\n",
        "\n",
        "    def call(self, inputs):\n",
        "        self.add_loss(self.rate * tf.reduce_sum(inputs))\n",
        "        return inputs"
      ],
      "execution_count": 0,
      "outputs": []
    },
    {
      "cell_type": "code",
      "metadata": {
        "id": "0adujtCAcKjC",
        "colab_type": "code",
        "colab": {}
      },
      "source": [
        "class OuterLayer(tf.keras.layers.Layer):\n",
        "\n",
        "    def __init__(self):\n",
        "        super(OuterLayer, self).__init__()\n",
        "        self.activity_reg = ActivityRegularisationLayer(1e-2)\n",
        "\n",
        "    def call(self, inputs):\n",
        "        return self.activity_reg(inputs)\n",
        "\n",
        "layer = OuterLayer()\n",
        "assert len(layer.losses) == 0\n",
        "\n",
        "_ = layer(tf.zeros(1, 1))\n",
        "assert len(layer.losses) == 1"
      ],
      "execution_count": 0,
      "outputs": []
    },
    {
      "cell_type": "code",
      "metadata": {
        "id": "ELVEwr-AcoeM",
        "colab_type": "code",
        "colab": {}
      },
      "source": [
        ""
      ],
      "execution_count": 0,
      "outputs": []
    }
  ]
}