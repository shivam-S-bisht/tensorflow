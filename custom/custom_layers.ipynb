{
  "nbformat": 4,
  "nbformat_minor": 0,
  "metadata": {
    "colab": {
      "name": "custom layers.ipynb",
      "provenance": [],
      "collapsed_sections": []
    },
    "kernelspec": {
      "name": "python3",
      "display_name": "Python 3"
    }
  },
  "cells": [
    {
      "cell_type": "code",
      "metadata": {
        "id": "2ozCiVy_Dj1N",
        "colab_type": "code",
        "colab": {}
      },
      "source": [
        "import tensorflow as tf"
      ],
      "execution_count": 0,
      "outputs": []
    },
    {
      "cell_type": "code",
      "metadata": {
        "id": "9ic0fmYzDyW-",
        "colab_type": "code",
        "colab": {}
      },
      "source": [
        "layer = tf.keras.layers.Dense(100)\n"
      ],
      "execution_count": 0,
      "outputs": []
    },
    {
      "cell_type": "code",
      "metadata": {
        "id": "3w6PPHclFQuW",
        "colab_type": "code",
        "colab": {}
      },
      "source": [
        "class MyDenseLayer(tf.keras.layers.Layer):\n",
        "    def __init__(self, num_outputs):\n",
        "        super(MyDenseLayer, self).__init__()\n",
        "        self.num_outputs = num_outputs\n",
        "\n",
        "    def build(self, input_shape):\n",
        "        self.kernel = self.add_weight('kernel', shape = [int(input_shape[-1]), self.num_outputs])\n",
        "\n",
        "    def call(self, input):\n",
        "        return tf.matmul(input, self.kernel)\n",
        "\n",
        "layer = MyDenseLayer(10)"
      ],
      "execution_count": 0,
      "outputs": []
    },
    {
      "cell_type": "code",
      "metadata": {
        "id": "P4LUOphwTRHk",
        "colab_type": "code",
        "colab": {}
      },
      "source": [
        "# input_shape . kernel_shape\n",
        "#  10x5 . 5x10"
      ],
      "execution_count": 0,
      "outputs": []
    },
    {
      "cell_type": "code",
      "metadata": {
        "id": "-ky73NFdMkEL",
        "colab_type": "code",
        "colab": {}
      },
      "source": [
        "_ = layer(tf.zeros([10, 5])) # Calling the layer `.builds` it."
      ],
      "execution_count": 0,
      "outputs": []
    },
    {
      "cell_type": "code",
      "metadata": {
        "id": "1K4Jp6W0N1jA",
        "colab_type": "code",
        "colab": {}
      },
      "source": [
        "# making model with existing layers"
      ],
      "execution_count": 0,
      "outputs": []
    },
    {
      "cell_type": "code",
      "metadata": {
        "id": "SegZ7kpBULjY",
        "colab_type": "code",
        "colab": {}
      },
      "source": [
        "class ResnetIdentifyBlock(tf.keras.Model):\n",
        "    def __init__(self, kernel_size, filters):\n",
        "        super(ResnetIdentifyBlock, self).__init__(name = '')\n",
        "        filter1, filter2, filter3 = filters\n",
        "\n",
        "        self.conv2a = tf.keras.layers.Conv2D(filter1, (1, 1))\n",
        "        self.bn2a = tf.keras.layers.BatchNormalization()\n",
        "\n",
        "        self.conv2b = tf.keras.layers.Conv2D(filter2, kernel_size, padding = 'same')\n",
        "        self.bn2b = tf.keras.layers.BatchNormalization()\n",
        "\n",
        "        self.conv2c = tf.keras.layers.Conv2D(filter3, (1, 1))\n",
        "        self.bn2c = tf.keras.layers.BatchNormalization()\n",
        "\n",
        "\n",
        "    def call(self, input_tensor, training = False):\n",
        "        x = self.conv2a(input_tensor)\n",
        "        x = self.bn2a(x, training = training)\n",
        "        x = tf.nn.relu(x)\n",
        "\n",
        "        x = self.conv2b(x)\n",
        "        x = self.bn2b(x, training = training)\n",
        "        x = tf.nn.relu(x)\n",
        "\n",
        "        x = self.conv2c(x)\n",
        "        x = self.bn2c(x, training = training)\n",
        "\n",
        "        x += input_tensor\n",
        "        return tf.nn.relu(x)\n",
        "\n",
        "\n",
        "block = ResnetIdentifyBlock(1, [1, 2, 3])"
      ],
      "execution_count": 0,
      "outputs": []
    },
    {
      "cell_type": "code",
      "metadata": {
        "id": "5hGYlZwEjY6i",
        "colab_type": "code",
        "colab": {}
      },
      "source": [
        "_ = block(tf.zeros([1, 2, 3, 3]))\n",
        "\n",
        "#passing 2 sample of 3x3 length"
      ],
      "execution_count": 0,
      "outputs": []
    },
    {
      "cell_type": "code",
      "metadata": {
        "id": "mANjuhhrkY5h",
        "colab_type": "code",
        "colab": {
          "base_uri": "https://localhost:8080/",
          "height": 126
        },
        "outputId": "d9c2c903-9f1d-445e-c432-27d51bf5a3a5"
      },
      "source": [
        "block.layers"
      ],
      "execution_count": 16,
      "outputs": [
        {
          "output_type": "execute_result",
          "data": {
            "text/plain": [
              "[<tensorflow.python.keras.layers.convolutional.Conv2D at 0x7f8dd17e66d8>,\n",
              " <tensorflow.python.keras.layers.normalization_v2.BatchNormalization at 0x7f8dd17e6a90>,\n",
              " <tensorflow.python.keras.layers.convolutional.Conv2D at 0x7f8dd17e6d30>,\n",
              " <tensorflow.python.keras.layers.normalization_v2.BatchNormalization at 0x7f8dd17f8080>,\n",
              " <tensorflow.python.keras.layers.convolutional.Conv2D at 0x7f8dd17f8320>,\n",
              " <tensorflow.python.keras.layers.normalization_v2.BatchNormalization at 0x7f8dd17f85f8>]"
            ]
          },
          "metadata": {
            "tags": []
          },
          "execution_count": 16
        }
      ]
    },
    {
      "cell_type": "code",
      "metadata": {
        "id": "K9dLDrTGB7WE",
        "colab_type": "code",
        "colab": {
          "base_uri": "https://localhost:8080/",
          "height": 35
        },
        "outputId": "68b0a3d3-81e3-4a05-c3e3-79711e15a9b3"
      },
      "source": [
        "len(block.variables)"
      ],
      "execution_count": 17,
      "outputs": [
        {
          "output_type": "execute_result",
          "data": {
            "text/plain": [
              "18"
            ]
          },
          "metadata": {
            "tags": []
          },
          "execution_count": 17
        }
      ]
    },
    {
      "cell_type": "code",
      "metadata": {
        "id": "6qW4G3hwCAEF",
        "colab_type": "code",
        "colab": {
          "base_uri": "https://localhost:8080/",
          "height": 435
        },
        "outputId": "797ff598-29db-4e2e-c9c2-6b802e130dca"
      },
      "source": [
        "block.variables"
      ],
      "execution_count": 18,
      "outputs": [
        {
          "output_type": "execute_result",
          "data": {
            "text/plain": [
              "[<tf.Variable 'resnet_identify_block/conv2d/kernel:0' shape=(1, 1, 3, 1) dtype=float32, numpy=\n",
              " array([[[[-0.7049488 ],\n",
              "          [-0.69258803],\n",
              "          [-0.8409063 ]]]], dtype=float32)>,\n",
              " <tf.Variable 'resnet_identify_block/conv2d/bias:0' shape=(1,) dtype=float32, numpy=array([0.], dtype=float32)>,\n",
              " <tf.Variable 'resnet_identify_block/batch_normalization/gamma:0' shape=(1,) dtype=float32, numpy=array([1.], dtype=float32)>,\n",
              " <tf.Variable 'resnet_identify_block/batch_normalization/beta:0' shape=(1,) dtype=float32, numpy=array([0.], dtype=float32)>,\n",
              " <tf.Variable 'resnet_identify_block/batch_normalization/moving_mean:0' shape=(1,) dtype=float32, numpy=array([0.], dtype=float32)>,\n",
              " <tf.Variable 'resnet_identify_block/batch_normalization/moving_variance:0' shape=(1,) dtype=float32, numpy=array([1.], dtype=float32)>,\n",
              " <tf.Variable 'resnet_identify_block/conv2d_1/kernel:0' shape=(1, 1, 1, 2) dtype=float32, numpy=array([[[[-0.25853682, -0.52469254]]]], dtype=float32)>,\n",
              " <tf.Variable 'resnet_identify_block/conv2d_1/bias:0' shape=(2,) dtype=float32, numpy=array([0., 0.], dtype=float32)>,\n",
              " <tf.Variable 'resnet_identify_block/batch_normalization_1/gamma:0' shape=(2,) dtype=float32, numpy=array([1., 1.], dtype=float32)>,\n",
              " <tf.Variable 'resnet_identify_block/batch_normalization_1/beta:0' shape=(2,) dtype=float32, numpy=array([0., 0.], dtype=float32)>,\n",
              " <tf.Variable 'resnet_identify_block/batch_normalization_1/moving_mean:0' shape=(2,) dtype=float32, numpy=array([0., 0.], dtype=float32)>,\n",
              " <tf.Variable 'resnet_identify_block/batch_normalization_1/moving_variance:0' shape=(2,) dtype=float32, numpy=array([1., 1.], dtype=float32)>,\n",
              " <tf.Variable 'resnet_identify_block/conv2d_2/kernel:0' shape=(1, 1, 2, 3) dtype=float32, numpy=\n",
              " array([[[[ 0.36957598, -0.67647374, -0.40909326],\n",
              "          [ 0.79069424, -1.06341   , -0.76093316]]]], dtype=float32)>,\n",
              " <tf.Variable 'resnet_identify_block/conv2d_2/bias:0' shape=(3,) dtype=float32, numpy=array([0., 0., 0.], dtype=float32)>,\n",
              " <tf.Variable 'resnet_identify_block/batch_normalization_2/gamma:0' shape=(3,) dtype=float32, numpy=array([1., 1., 1.], dtype=float32)>,\n",
              " <tf.Variable 'resnet_identify_block/batch_normalization_2/beta:0' shape=(3,) dtype=float32, numpy=array([0., 0., 0.], dtype=float32)>,\n",
              " <tf.Variable 'resnet_identify_block/batch_normalization_2/moving_mean:0' shape=(3,) dtype=float32, numpy=array([0., 0., 0.], dtype=float32)>,\n",
              " <tf.Variable 'resnet_identify_block/batch_normalization_2/moving_variance:0' shape=(3,) dtype=float32, numpy=array([1., 1., 1.], dtype=float32)>]"
            ]
          },
          "metadata": {
            "tags": []
          },
          "execution_count": 18
        }
      ]
    },
    {
      "cell_type": "code",
      "metadata": {
        "id": "5bjlJZr7CDm-",
        "colab_type": "code",
        "colab": {
          "base_uri": "https://localhost:8080/",
          "height": 380
        },
        "outputId": "a3ec3dcb-1746-478f-fc3c-2c03ebb8e0d9"
      },
      "source": [
        "block.summary()"
      ],
      "execution_count": 19,
      "outputs": [
        {
          "output_type": "stream",
          "text": [
            "Model: \"resnet_identify_block\"\n",
            "_________________________________________________________________\n",
            "Layer (type)                 Output Shape              Param #   \n",
            "=================================================================\n",
            "conv2d (Conv2D)              multiple                  4         \n",
            "_________________________________________________________________\n",
            "batch_normalization (BatchNo multiple                  4         \n",
            "_________________________________________________________________\n",
            "conv2d_1 (Conv2D)            multiple                  4         \n",
            "_________________________________________________________________\n",
            "batch_normalization_1 (Batch multiple                  8         \n",
            "_________________________________________________________________\n",
            "conv2d_2 (Conv2D)            multiple                  9         \n",
            "_________________________________________________________________\n",
            "batch_normalization_2 (Batch multiple                  12        \n",
            "=================================================================\n",
            "Total params: 41\n",
            "Trainable params: 29\n",
            "Non-trainable params: 12\n",
            "_________________________________________________________________\n"
          ],
          "name": "stdout"
        }
      ]
    },
    {
      "cell_type": "code",
      "metadata": {
        "id": "I_Jmmq3tCP7f",
        "colab_type": "code",
        "colab": {}
      },
      "source": [
        "# this can be done by"
      ],
      "execution_count": 0,
      "outputs": []
    },
    {
      "cell_type": "code",
      "metadata": {
        "id": "KKBSZSJ_CmgO",
        "colab_type": "code",
        "colab": {
          "base_uri": "https://localhost:8080/",
          "height": 162
        },
        "outputId": "d3e6b258-b923-4e5f-bc6f-a4a16b605907"
      },
      "source": [
        "model = tf.keras.Sequential()\n",
        "model.add(tf.keras.layers.Conv2D(1, (1, 1), input_shape = (None, None, 3)))\n",
        "model.add(tf.keras.layers.BatchNormalization())\n",
        "\n",
        "model.add(tf.keras.layers.Conv2D(2, 1, padding = 'same'))\n",
        "model.add(tf.keras.layers.BatchNormalization())\n",
        "\n",
        "model.add(tf.keras.layers.Conv2D(3, (1, 1)))\n",
        "model.add(tf.keras.layers.BatchNormalization())\n",
        "\n",
        "model(tf.zeros([1, 2, 3, 3]))"
      ],
      "execution_count": 22,
      "outputs": [
        {
          "output_type": "execute_result",
          "data": {
            "text/plain": [
              "<tf.Tensor: shape=(1, 2, 3, 3), dtype=float32, numpy=\n",
              "array([[[[0., 0., 0.],\n",
              "         [0., 0., 0.],\n",
              "         [0., 0., 0.]],\n",
              "\n",
              "        [[0., 0., 0.],\n",
              "         [0., 0., 0.],\n",
              "         [0., 0., 0.]]]], dtype=float32)>"
            ]
          },
          "metadata": {
            "tags": []
          },
          "execution_count": 22
        }
      ]
    },
    {
      "cell_type": "code",
      "metadata": {
        "id": "XDTTr_kcEhY7",
        "colab_type": "code",
        "colab": {
          "base_uri": "https://localhost:8080/",
          "height": 35
        },
        "outputId": "5c36f1f8-d0fb-431e-cae2-c0a9de7aa727"
      },
      "source": [
        "model.summary"
      ],
      "execution_count": 23,
      "outputs": [
        {
          "output_type": "execute_result",
          "data": {
            "text/plain": [
              "<bound method Network.summary of <tensorflow.python.keras.engine.sequential.Sequential object at 0x7f8dced8b390>>"
            ]
          },
          "metadata": {
            "tags": []
          },
          "execution_count": 23
        }
      ]
    },
    {
      "cell_type": "code",
      "metadata": {
        "id": "V8_7q4ygEorr",
        "colab_type": "code",
        "colab": {}
      },
      "source": [
        ""
      ],
      "execution_count": 0,
      "outputs": []
    }
  ]
}